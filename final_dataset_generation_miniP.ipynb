{
  "nbformat": 4,
  "nbformat_minor": 0,
  "metadata": {
    "colab": {
      "provenance": []
    },
    "kernelspec": {
      "name": "python3",
      "display_name": "Python 3"
    },
    "language_info": {
      "name": "python"
    }
  },
  "cells": [
    {
      "cell_type": "code",
      "execution_count": null,
      "metadata": {
        "id": "r9g_ROlkID5z"
      },
      "outputs": [],
      "source": [
        "from PIL import Image\n",
        "import os\n",
        "\n",
        "def merge_images(folder1, folder2, output_folder):\n",
        "    # Ensure the output folder exists\n",
        "    os.makedirs(output_folder, exist_ok=True)\n",
        "\n",
        "    # Get a list of image names from the first folder (assuming both folders have the same set of images)\n",
        "    images = os.listdir(folder1)\n",
        "    images.sort()  # Ensure the order is correct\n",
        "\n",
        "    # Iterate through each image\n",
        "    for image_name in images:\n",
        "        # Construct the full path to the images in both folders\n",
        "        img_path1 = os.path.join(folder1, image_name)\n",
        "        img_path2 = os.path.join(folder2, image_name)\n",
        "\n",
        "        if os.path.isfile(img_path1) and os.path.isfile(img_path2):\n",
        "            # Open the images\n",
        "            img1 = Image.open(img_path1)\n",
        "            img2 = Image.open(img_path2)\n",
        "\n",
        "            # Create a new blank image with double width\n",
        "            new_img = Image.new('RGB', (1200, 600))\n",
        "\n",
        "            # Paste the two images into this blank image\n",
        "            new_img.paste(img2, (0, 0))  # img2 goes on the left\n",
        "            new_img.paste(img1, (600, 0))  # img1 goes on the right\n",
        "            # new_img.paste(img1, (0, 0))\n",
        "            # new_img.paste(img2, (600, 0))\n",
        "\n",
        "            # Save the new image\n",
        "            new_img.save(os.path.join(output_folder, image_name))\n",
        "\n",
        "# Usage example\n",
        "merge_images('/content/drive/MyDrive/grayscale_with_buildings', '/content/drive/MyDrive/without_buildings', '/content/drive/MyDrive/dataset_final')\n"
      ]
    },
    {
      "cell_type": "code",
      "source": [
        "\n",
        "import os\n",
        "import shutil\n",
        "\n",
        "# Path to the folder from which you want to delete files\n",
        "folder_path = '/content/drive/MyDrive/dataset_final'\n",
        "\n",
        "# Check if the path is a directory\n",
        "if os.path.isdir(folder_path):\n",
        "    # List all files and directories in the folder\n",
        "    for filename in os.listdir(folder_path):\n",
        "        file_path = os.path.join(folder_path, filename)\n",
        "        try:\n",
        "            if os.path.isfile(file_path) or os.path.islink(file_path):\n",
        "                os.unlink(file_path)  # Remove file or link\n",
        "            elif os.path.isdir(file_path):\n",
        "                shutil.rmtree(file_path)  # Remove directory and all its contents\n",
        "        except Exception as e:\n",
        "            print(f'Failed to delete {file_path}. Reason: {e}')\n",
        "    print(\"All files and folders within the directory have been deleted.\")\n",
        "else:\n",
        "    print(f\"The provided path: {folder_path} is not a directory.\")\n"
      ],
      "metadata": {
        "id": "dPImBb0dINkS"
      },
      "execution_count": null,
      "outputs": []
    }
  ]
}